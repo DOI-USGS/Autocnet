{
 "cells": [
  {
   "cell_type": "code",
   "execution_count": 344,
   "id": "ad85f5e1-b691-496c-acfb-8935c89759dd",
   "metadata": {},
   "outputs": [],
   "source": [
    "%matplotlib inline\n",
    "import numpy as np\n",
    "from skimage import transform as tf\n",
    "import scipy.ndimage as ndimage"
   ]
  },
  {
   "cell_type": "code",
   "execution_count": 751,
   "id": "4fa59f49-6033-406e-ab46-4a8fa5199d18",
   "metadata": {},
   "outputs": [],
   "source": [
    "image = np.arange(900).reshape(30,30)"
   ]
  },
  {
   "cell_type": "markdown",
   "id": "45876f80-f1d5-40ff-8503-247a00779b4a",
   "metadata": {},
   "source": [
    "### Slim ROI class"
   ]
  },
  {
   "cell_type": "code",
   "execution_count": 984,
   "id": "dc199bab-d74d-424b-ad02-7fbfe56bcb2c",
   "metadata": {},
   "outputs": [],
   "source": [
    "class Roi():\n",
    "    def __init__(self, image, x, y, size_x, size_y, affine, buffer=0):\n",
    "        self.image = image\n",
    "        self.x = x\n",
    "        self.y = y\n",
    "        self.size_x = size_x\n",
    "        self.size_y = size_y\n",
    "        self.affine = affine\n",
    "        self.buffer = buffer\n",
    "        \n",
    "    @property\n",
    "    def x(self):\n",
    "        return self._whole_x + self._remainder_x\n",
    "\n",
    "    @x.setter\n",
    "    def x(self, x):\n",
    "        self._whole_x = floor(x)\n",
    "        self._remainder_x = x - self._whole_x\n",
    "\n",
    "    @property\n",
    "    def y(self):\n",
    "        return self._whole_y + self._remainder_y\n",
    "\n",
    "    @y.setter\n",
    "    def y(self, y):\n",
    "        self._whole_y = floor(y)\n",
    "        self._remainder_y = y - self._whole_y\n",
    "\n",
    "    def clip_coordinate_to_image_coordinate(self, xy):\n",
    "        transformed = self.subwindow_affine_to_image_coords(xy)\n",
    "        if len(transformed) == 1:\n",
    "            return transformed[0]\n",
    "        else:\n",
    "            return transformed\n",
    "    \n",
    "    def clip(self):\n",
    "        # Read the data from the array\n",
    "        min_x = int(self._whole_x - self.size_x - self.buffer)\n",
    "        min_y = int(self._whole_y - self.size_y - self.buffer)\n",
    "        x_read_length = (self.size_x * 2) + (self.buffer * 2)\n",
    "        y_read_length = (self.size_y * 2) + (self.buffer * 2)\n",
    "        data = self.image[min_y:min_y + y_read_length, min_x:min_x + x_read_length]\n",
    "        \n",
    "        # Pixel lock the data to the nearest integer. This handles warping to the nearest whole pixel.\n",
    "        pixel_locking_affine = tf.SimilarityTransform(translation=(-self._remainder_x,\n",
    "                                                                   -self._remainder_y))        \n",
    "        \n",
    "        center = (np.array(data.shape)-1)[::-1] / 2.  # Where center is a zero based index of the image center\n",
    "        self.roi_center_to_image_location = tf.SimilarityTransform(translation=(self.x-center[0], self.y-center[1]))\n",
    "        # This has to incorporate the roi_center_to_image_location transformation\n",
    "        self.subwindow_affine = pixel_locking_affine + \\\n",
    "                                tf.SimilarityTransform(translation=-center) + \\\n",
    "                                self.affine + \\\n",
    "                                tf.SimilarityTransform(translation=center)  \n",
    "\n",
    "        # Sanity check - even with rotation and shear, the affine should never move the center of the array.\n",
    "\n",
    "        # Build the transformation from warped image space back to unwarped image space\n",
    "        self.subwindow_affine_to_image_coords = self.subwindow_affine.inverse + self.roi_center_to_image_location + pixel_locking_affine\n",
    "\n",
    "        # Warp the pixel locked data\n",
    "        warped_data = tf.warp(data,\n",
    "                              self.subwindow_affine.inverse,\n",
    "                              order=3,\n",
    "                              mode='constant',\n",
    "                              cval=0,\n",
    "                              preserve_range=True)\n",
    "\n",
    "        return warped_data"
   ]
  },
  {
   "cell_type": "markdown",
   "id": "2725dec3-9aeb-4ca2-8058-f900ae4e5fad",
   "metadata": {},
   "source": [
    "### No rotation, just translation, no pixel locking\n",
    "\n",
    "In this most basic example, the initial (centered) coordinates of the ROI are integrers and the affine transformation has no rotation or shear. The mapping that the ROI has to track is between the center coordinate of the ROI and the pixel coordinate of the entire image. T"
   ]
  },
  {
   "cell_type": "code",
   "execution_count": 985,
   "id": "836a4cff-e1bd-4c6c-a247-94777e0fc53e",
   "metadata": {},
   "outputs": [
    {
     "data": {
      "text/plain": [
       "array([[ 1., -0.,  0.],\n",
       "       [ 0.,  1.,  0.],\n",
       "       [ 0.,  0.,  1.]])"
      ]
     },
     "execution_count": 985,
     "metadata": {},
     "output_type": "execute_result"
    }
   ],
   "source": [
    "rotation = tf.AffineTransform(rotation=np.radians(0))\n",
    "rotation.params"
   ]
  },
  {
   "cell_type": "code",
   "execution_count": 986,
   "id": "6bce17e7-92f2-443c-a479-60f28bb89f0d",
   "metadata": {},
   "outputs": [
    {
     "name": "stdout",
     "output_type": "stream",
     "text": [
      "Expecting: [13. 17.]\n",
      "Reprojection of a coordinate from transformed space to image space:  [13. 17.]\n"
     ]
    },
    {
     "data": {
      "image/png": "[encoded data removed]",
      "text/plain": [
       "<Figure size 640x480 with 1 Axes>"
      ]
     },
     "metadata": {},
     "output_type": "display_data"
    }
   ],
   "source": [
    "r = Roi(image, 13, 17, 6, 6, rotation, buffer=3)\n",
    "warped_data = r.clip()\n",
    "imshow(warped_data)\n",
    "\n",
    "# The center coordinate in the transformed space must equal the passed x,y coordinates.\n",
    "print('Expecting: [13. 17.]')\n",
    "print('Reprojection of a coordinate from transformed space to image space: ', r.clip_coordinate_to_image_coordinate((8.5,8.5)))\n"
   ]
  },
  {
   "cell_type": "markdown",
   "id": "36960179-330e-4060-bb19-8c7ff1b0ebd9",
   "metadata": {},
   "source": [
    "### Shift the desired coordinate in the affine space.\n",
    "In this example the coordinate in the affine space is shifted +1 in the x-direction and -3 in the y-direction. Since the passed affine has no rotation, we expect the result to be the passed x+1 and the passed y-3, or 14,14."
   ]
  },
  {
   "cell_type": "code",
   "execution_count": 987,
   "id": "8ac73477-7141-4421-9141-ba417e3e50cc",
   "metadata": {},
   "outputs": [
    {
     "name": "stdout",
     "output_type": "stream",
     "text": [
      "Expecting: [14. 14.]\n",
      "Reprojection of a coordinate from transformed space to image space:  [14. 14.]\n"
     ]
    },
    {
     "data": {
      "image/png": "[encoded data removed]",
      "text/plain": [
       "<Figure size 640x480 with 1 Axes>"
      ]
     },
     "metadata": {},
     "output_type": "display_data"
    }
   ],
   "source": [
    "r = Roi(image, 13, 17, 6, 6, rotation, buffer=3)\n",
    "warped_data = r.clip()\n",
    "imshow(warped_data)\n",
    "\n",
    "# The center coordinate in the transformed space must equal the passed x,y coordinates.\n",
    "print('Expecting: [14. 14.]')\n",
    "print('Reprojection of a coordinate from transformed space to image space: ', r.clip_coordinate_to_image_coordinate((8.5+1,8.5-3)))"
   ]
  },
  {
   "cell_type": "markdown",
   "id": "c0531d69-dc8d-4192-92ff-51ea2674f89c",
   "metadata": {},
   "source": [
    "### Add subpixel component\n",
    "In this example, the input x,y coordinate are no aligned to the pixel edge. The x-coordinate is 0.243 from the pixel read edge and the y coordinate is 0.974 from the pixel read edge. \n",
    "\n",
    "The ROI class handles this subpixel adjustment in the warping to pixel lock to an edge (using interpolation). \n",
    "\n",
    "As above, the anticipated result of the reprojection from affine space to input image space equals the input x,y."
   ]
  },
  {
   "cell_type": "code",
   "execution_count": 988,
   "id": "056c8949-6a90-4a2f-9a9e-a0e5056430de",
   "metadata": {},
   "outputs": [
    {
     "name": "stdout",
     "output_type": "stream",
     "text": [
      "Expecting: [13.243 17.974]\n",
      "Reprojection of a coordinate from transformed space to image space:  [13.243 17.974]\n"
     ]
    },
    {
     "data": {
      "image/png": "[encoded data removed]",
      "text/plain": [
       "<Figure size 640x480 with 2 Axes>"
      ]
     },
     "metadata": {},
     "output_type": "display_data"
    }
   ],
   "source": [
    "r = Roi(image, 13.243, 17.974, 6, 6, rotation, buffer=3)\n",
    "warped_data = r.clip()\n",
    "imshow(warped_data)\n",
    "colorbar()\n",
    "# The center coordinate in the transformed space must equal the passed x,y coordinates.\n",
    "print('Expecting: [13.243 17.974]')\n",
    "print('Reprojection of a coordinate from transformed space to image space: ', r.clip_coordinate_to_image_coordinate((8.5,8.5)))"
   ]
  },
  {
   "cell_type": "markdown",
   "id": "942f7c12-3374-451a-96c8-486ff745f629",
   "metadata": {},
   "source": [
    "### Add a subpixel component and a shift.\n",
    "This replicates the second example, above, but adds in a x+1 and y-3 shift. The expected results are 14.243 and 14.974."
   ]
  },
  {
   "cell_type": "code",
   "execution_count": 989,
   "id": "18c8154b-6376-4961-b5b5-22e408da2137",
   "metadata": {},
   "outputs": [
    {
     "name": "stdout",
     "output_type": "stream",
     "text": [
      "Expecting: [14.234 14.974]\n",
      "Reprojection of a coordinate from transformed space to image space:  [14.243 14.974]\n"
     ]
    },
    {
     "data": {
      "image/png": "[encoded data removed]",
      "text/plain": [
       "<Figure size 640x480 with 2 Axes>"
      ]
     },
     "metadata": {},
     "output_type": "display_data"
    }
   ],
   "source": [
    "r = Roi(image, 13.243, 17.974, 6, 6, rotation, buffer=3)\n",
    "warped_data = r.clip()\n",
    "imshow(warped_data)\n",
    "colorbar()\n",
    "# The center coordinate in the transformed space must equal the passed x,y coordinates.\n",
    "print('Expecting: [14.234 14.974]')\n",
    "print('Reprojection of a coordinate from transformed space to image space: ', r.clip_coordinate_to_image_coordinate((8.5+1,8.5-3)))"
   ]
  },
  {
   "cell_type": "markdown",
   "id": "e36bb328-5826-4f8a-b28e-4732fe16c2ac",
   "metadata": {},
   "source": [
    "# 45˚ Rotation, whole pixel\n",
    "In this example, the affine transformation rotates the data clockwise by 30˚. The buffer size (the extra data read to subset the data and ensure that no data values are not being included is adjusted and, therefore, the center is adjusted)."
   ]
  },
  {
   "cell_type": "code",
   "execution_count": 990,
   "id": "d3dbcdaa-7cfe-4b51-b637-dafc05ca70e0",
   "metadata": {},
   "outputs": [
    {
     "data": {
      "text/plain": [
       "array([[ 0.70710678,  0.70710678,  0.        ],\n",
       "       [-0.70710678,  0.70710678,  0.        ],\n",
       "       [ 0.        ,  0.        ,  1.        ]])"
      ]
     },
     "execution_count": 990,
     "metadata": {},
     "output_type": "execute_result"
    }
   ],
   "source": [
    "rotation = tf.AffineTransform(rotation=np.radians(-45))\n",
    "rotation.params"
   ]
  },
  {
   "cell_type": "code",
   "execution_count": 991,
   "id": "c79cdc53-9580-48dd-9512-48fdb2571820",
   "metadata": {},
   "outputs": [
    {
     "name": "stdout",
     "output_type": "stream",
     "text": [
      "Reprojection of a coordinate from transformed space to image space:  [13. 17.]\n"
     ]
    },
    {
     "data": {
      "image/png": "[encoded data removed]",
      "text/plain": [
       "<Figure size 640x480 with 1 Axes>"
      ]
     },
     "metadata": {},
     "output_type": "display_data"
    }
   ],
   "source": [
    "r = Roi(image, 13, 17, 5, 5, rotation, buffer=2)\n",
    "warped_data = r.clip()\n",
    "imshow(warped_data)\n",
    "\n",
    "# The center coordinate in the transformed space must equal the passed x,y coordinates.\n",
    "print('Reprojection of a coordinate from transformed space to image space: ', r.clip_coordinate_to_image_coordinate((6.5,6.5)))"
   ]
  },
  {
   "cell_type": "markdown",
   "id": "0591df10-731f-458c-9af4-ade73b928f36",
   "metadata": {},
   "source": [
    "### 45˚ rotation, subpixel"
   ]
  },
  {
   "cell_type": "code",
   "execution_count": 992,
   "id": "50930a37-fd56-4d6b-90b4-fa9b875e2985",
   "metadata": {},
   "outputs": [
    {
     "name": "stdout",
     "output_type": "stream",
     "text": [
      "Reprojection of a coordinate from transformed space to image space:  [13.1 17.7]\n"
     ]
    },
    {
     "data": {
      "image/png": "[encoded data removed]",
      "text/plain": [
       "<Figure size 640x480 with 1 Axes>"
      ]
     },
     "metadata": {},
     "output_type": "display_data"
    }
   ],
   "source": [
    "r = Roi(image, 13.1, 17.7, 6, 6, rotation, buffer=3)\n",
    "warped_data = r.clip()\n",
    "imshow(warped_data)\n",
    "\n",
    "# The center coordinate in the transformed space must equal the passed x,y coordinates.\n",
    "print('Reprojection of a coordinate from transformed space to image space: ', r.clip_coordinate_to_image_coordinate((8.5,8.5)))"
   ]
  },
  {
   "cell_type": "markdown",
   "id": "d3217b99-6903-4b8a-bb17-2ad6dcd0a279",
   "metadata": {},
   "source": [
    "###\n"
   ]
  },
  {
   "cell_type": "markdown",
   "id": "132628a6-c5cf-4960-9abd-429ad9b40b91",
   "metadata": {},
   "source": [
    "### 45˚ Rotation, shifted coordinate"
   ]
  },
  {
   "cell_type": "code",
   "execution_count": 995,
   "id": "c266b30c-0224-416b-a17a-1890d1b1368d",
   "metadata": {},
   "outputs": [
    {
     "name": "stdout",
     "output_type": "stream",
     "text": [
      "Expecting: [13. 19.828]\n",
      "Reprojection of a coordinate from transformed space to image space:  [13.         19.82842712]\n"
     ]
    },
    {
     "data": {
      "image/png": "[encoded data removed]",
      "text/plain": [
       "<Figure size 640x480 with 1 Axes>"
      ]
     },
     "metadata": {},
     "output_type": "display_data"
    }
   ],
   "source": [
    "r = Roi(image, 13, 17, 4, 4, rotation, buffer=0)\n",
    "warped_data = r.clip()\n",
    "imshow(warped_data)\n",
    "\n",
    "# The center coordinate in the transformed space must equal the passed x,y coordinates.\n",
    "print('Expecting: [13. 19.828]')\n",
    "print('Reprojection of a coordinate from transformed space to image space: ', r.clip_coordinate_to_image_coordinate((3.5+2,3.5+2)))\n"
   ]
  },
  {
   "cell_type": "markdown",
   "id": "1455852c-774e-4433-8339-c7fc325efb7b",
   "metadata": {},
   "source": [
    "### 45˚ Rotation, subpixel, shifted coordinate"
   ]
  },
  {
   "cell_type": "code",
   "execution_count": 994,
   "id": "9cebe0f8-93a7-4b9b-9caf-9db995832f53",
   "metadata": {},
   "outputs": [
    {
     "name": "stdout",
     "output_type": "stream",
     "text": [
      "Expecting: [13.1 20.53]\n",
      "Reprojection of a coordinate from transformed space to image space:  [13.1        20.52842712]\n"
     ]
    },
    {
     "data": {
      "image/png": "[encoded data removed]",
      "text/plain": [
       "<Figure size 640x480 with 1 Axes>"
      ]
     },
     "metadata": {},
     "output_type": "display_data"
    }
   ],
   "source": [
    "r = Roi(image, 13.1, 17.7, 6, 6, rotation, buffer=3)\n",
    "warped_data = r.clip()\n",
    "imshow(warped_data)\n",
    "\n",
    "# The center coordinate in the transformed space must equal the passed x,y coordinates.\n",
    "print('Expecting: [13.1 20.53]')\n",
    "print('Reprojection of a coordinate from transformed space to image space: ', r.clip_coordinate_to_image_coordinate((8.5+2,8.5+2)))"
   ]
  },
  {
   "cell_type": "markdown",
   "id": "eb2348ab-90cc-43c1-80ff-de096397e4c2",
   "metadata": {},
   "source": [
    "### Manual rotation about a point checking."
   ]
  },
  {
   "cell_type": "code",
   "execution_count": 982,
   "id": "3d2d1e45-e805-4058-9f07-c5369605f282",
   "metadata": {},
   "outputs": [
    {
     "data": {
      "text/plain": [
       "(6.32842712474619, 3.5, 2.82842712474619, 2.220446049250313e-16)"
      ]
     },
     "execution_count": 982,
     "metadata": {},
     "output_type": "execute_result"
    }
   ],
   "source": [
    "# Rotation angle\n",
    "a = np.radians(-45)\n",
    "\n",
    "# Point to rotate about\n",
    "center = 3.5\n",
    "\n",
    "# point to rotate\n",
    "x = 5.5\n",
    "y = 5.5\n",
    "# center origin on the point to rotate about\n",
    "xc = x - center\n",
    "yc = y - center\n",
    "\n",
    "# Compute the rotation\n",
    "x1 = xc* np.cos(a) - yc * np.sin(a)\n",
    "y1 = yc * np.cos(a) + xc*np.sin(a)\n",
    "\n",
    "# Undo the translation\n",
    "x1+center, y1+center, x1, y1"
   ]
  },
  {
   "cell_type": "code",
   "execution_count": 983,
   "id": "2ddc95d2-504c-44cf-8a42-28ef8d5627d1",
   "metadata": {},
   "outputs": [
    {
     "name": "stdout",
     "output_type": "stream",
     "text": [
      "[6.32842712 3.5       ]\n"
     ]
    },
    {
     "data": {
      "text/plain": [
       "array([[5.5, 5.5]])"
      ]
     },
     "execution_count": 983,
     "metadata": {},
     "output_type": "execute_result"
    }
   ],
   "source": [
    "# Perform the same operation as above, but use translation matrices\n",
    "center = np.array([3.5, 3.5])\n",
    "affine = tf.SimilarityTransform(translation=-center) + \\\n",
    "         rotation + \\\n",
    "         tf.SimilarityTransform(translation=center)\n",
    "\n",
    "subwindow_coords = affine((x,y))[0]\n",
    "print(subwindow_coords)\n",
    "\n",
    "subwindow_affine_to_image_coords = affine.inverse\n",
    "subwindow_affine_to_image_coords(subwindow_coords)"
   ]
  },
  {
   "cell_type": "code",
   "execution_count": null,
   "id": "8628a06c-cf8e-45c1-a252-f4a5eec47f24",
   "metadata": {},
   "outputs": [],
   "source": []
  },
  {
   "cell_type": "code",
   "execution_count": null,
   "id": "b41a9d85-9b64-4e8b-8c76-6e2885099152",
   "metadata": {},
   "outputs": [],
   "source": []
  },
  {
   "cell_type": "code",
   "execution_count": null,
   "id": "80f4b363-ec9d-4488-9e06-ff9d7d5e14ae",
   "metadata": {},
   "outputs": [],
   "source": []
  }
 ],
 "metadata": {
  "kernelspec": {
   "display_name": "autocnet-dev",
   "language": "python",
   "name": "autocnet-dev"
  },
  "language_info": {
   "codemirror_mode": {
    "name": "ipython",
    "version": 3
   },
   "file_extension": ".py",
   "mimetype": "text/x-python",
   "name": "python",
   "nbconvert_exporter": "python",
   "pygments_lexer": "ipython3",
   "version": "3.10.14"
  }
 },
 "nbformat": 4,
 "nbformat_minor": 5
}
